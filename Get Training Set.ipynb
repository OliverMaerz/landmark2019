{
 "cells": [
  {
   "cell_type": "markdown",
   "metadata": {},
   "source": [
    "### Getting the data"
   ]
  },
  {
   "cell_type": "code",
   "execution_count": null,
   "metadata": {},
   "outputs": [],
   "source": [
    "from urllib.request import urlretrieve\n",
    "import tarfile\n",
    "from io import BytesIO\n",
    "import os"
   ]
  },
  {
   "cell_type": "markdown",
   "metadata": {},
   "source": [
    "Loop through all the 500 files to download all tar files, and untar them into a folder called `landmark`\n"
   ]
  },
  {
   "cell_type": "code",
   "execution_count": null,
   "metadata": {},
   "outputs": [],
   "source": [
    "for i in range(0, 499):\n",
    "  # create string with the number for the filename (with leading zeros)  \n",
    "  number_string = str(i).zfill(3)\n",
    "  url = 'https://s3.amazonaws.com/google-landmark/train/images_{}.tar'.format(number_string)\n",
    "  print(\"Downloading: {}\".format(url))\n",
    "  file_tmp = urlretrieve(url, filename=None)[0]\n",
    "  # untar needs to seek back and forth in file so can not just keep it in memory \n",
    "  # but we need to save a temp file on disk\n",
    "  tar_ref = tarfile.open(file_tmp)\n",
    "  print(\"Untaring downloaded file\")\n",
    "  tar_ref.extractall('landmark')  \n",
    "  tar_ref.close()\n",
    "  print('Removing downloaded tar file')\n",
    "  # remove the temp file  \n",
    "  os.remove(file_tmp)"
   ]
  }
 ],
 "metadata": {
  "kernelspec": {
   "display_name": "Python 3",
   "language": "python",
   "name": "python3"
  },
  "language_info": {
   "codemirror_mode": {
    "name": "ipython",
    "version": 3
   },
   "file_extension": ".py",
   "mimetype": "text/x-python",
   "name": "python",
   "nbconvert_exporter": "python",
   "pygments_lexer": "ipython3",
   "version": "3.7.0"
  }
 },
 "nbformat": 4,
 "nbformat_minor": 2
}
