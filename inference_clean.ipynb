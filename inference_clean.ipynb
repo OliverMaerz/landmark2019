{
  "nbformat": 4,
  "nbformat_minor": 0,
  "metadata": {
    "colab": {
      "name": "inference-clean.ipynb",
      "version": "0.3.2",
      "provenance": [],
      "collapsed_sections": []
    },
    "kernelspec": {
      "name": "python3",
      "display_name": "Python 3"
    },
    "accelerator": "GPU"
  },
  "cells": [
    {
      "cell_type": "code",
      "metadata": {
        "id": "YSAnBw_2MSIW",
        "colab_type": "code",
        "outputId": "036de609-cd76-47f8-856a-cf1a4c8747b6",
        "colab": {
          "base_uri": "https://localhost:8080/",
          "height": 125
        }
      },
      "source": [
        "# Mount Google Drive for storage\n",
        "# see https://colab.research.google.com/notebooks/io.ipynb for more info\n",
        "from google.colab import drive\n",
        "drive.mount('/g/')"
      ],
      "execution_count": 0,
      "outputs": [
        {
          "output_type": "stream",
          "text": [
            "Go to this URL in a browser: https://accounts.google.com/o/oauth2/auth?client_id=947318989803-6bn6qk8qdgf4n4g3pfee6491hc0brc4i.apps.googleusercontent.com&redirect_uri=urn%3Aietf%3Awg%3Aoauth%3A2.0%3Aoob&scope=email%20https%3A%2F%2Fwww.googleapis.com%2Fauth%2Fdocs.test%20https%3A%2F%2Fwww.googleapis.com%2Fauth%2Fdrive%20https%3A%2F%2Fwww.googleapis.com%2Fauth%2Fdrive.photos.readonly%20https%3A%2F%2Fwww.googleapis.com%2Fauth%2Fpeopleapi.readonly&response_type=code\n",
            "\n",
            "Enter your authorization code:\n",
            "··········\n",
            "Mounted at /g/\n"
          ],
          "name": "stdout"
        }
      ]
    },
    {
      "cell_type": "code",
      "metadata": {
        "id": "BdunNtTxTNvY",
        "colab_type": "code",
        "colab": {}
      },
      "source": [
        "# Autheticate towards gcs bucket\n",
        "from google.colab import auth\n",
        "auth.authenticate_user()\n"
      ],
      "execution_count": 0,
      "outputs": []
    },
    {
      "cell_type": "code",
      "metadata": {
        "id": "UepqsoTIToU4",
        "colab_type": "code",
        "colab": {}
      },
      "source": [
        "!gsutil cp gs://landmark-training/csvs.tar.gz .\n",
        "!tar -xzvf csvs.tar.gz"
      ],
      "execution_count": 0,
      "outputs": []
    },
    {
      "cell_type": "code",
      "metadata": {
        "id": "mm_CEnJquXFH",
        "colab_type": "code",
        "colab": {}
      },
      "source": [
        "!gsutil cp gs://landmark-training/test-images.tar .\n",
        "!tar -xf test-images.tar"
      ],
      "execution_count": 0,
      "outputs": []
    },
    {
      "cell_type": "code",
      "metadata": {
        "id": "ivtat2sdPy3N",
        "colab_type": "code",
        "colab": {}
      },
      "source": [
        "from fastai.vision import *\n",
        "import fastai\n",
        "from PIL import Image\n",
        "from io import BytesIO\n",
        "import requests\n",
        "import os"
      ],
      "execution_count": 0,
      "outputs": []
    },
    {
      "cell_type": "code",
      "metadata": {
        "id": "klUBFmSjOeqN",
        "colab_type": "code",
        "colab": {}
      },
      "source": [
        "# Google Drive path (to load exported model and to save csv)\n",
        "path = \"/g/My Drive/\"\n",
        "# Path to test.csv\n",
        "csv_path = Path(\"/content/test.csv\")"
      ],
      "execution_count": 0,
      "outputs": []
    },
    {
      "cell_type": "code",
      "metadata": {
        "id": "GbQY1V9eQNPz",
        "colab_type": "code",
        "colab": {}
      },
      "source": [
        "# Load test.csv into dataframe\n",
        "test_df = pd.read_csv(csv_path)"
      ],
      "execution_count": 0,
      "outputs": []
    },
    {
      "cell_type": "code",
      "metadata": {
        "id": "WoH-UimVVsA0",
        "colab_type": "code",
        "colab": {}
      },
      "source": [
        "# Create a dataframe for the submissions\n",
        "submission_df = pd.DataFrame(columns=['id', 'landmarks'])"
      ],
      "execution_count": 0,
      "outputs": []
    },
    {
      "cell_type": "code",
      "metadata": {
        "id": "Qr4P7hZolnCq",
        "colab_type": "code",
        "colab": {}
      },
      "source": [
        "# ImageList from test images\n",
        "test_images = ImageList.from_folder('/content/test')        "
      ],
      "execution_count": 0,
      "outputs": []
    },
    {
      "cell_type": "code",
      "metadata": {
        "id": "ZEfozqgJeRFT",
        "colab_type": "code",
        "colab": {}
      },
      "source": [
        "# load the exported learner (exported from the training notebook)\n",
        "learn = load_learner(path, \"yourmodel.pkl\", test=test_images) #.to_fp16()"
      ],
      "execution_count": 0,
      "outputs": []
    },
    {
      "cell_type": "code",
      "metadata": {
        "id": "dmTpHHJHi0tj",
        "colab_type": "code",
        "colab": {}
      },
      "source": [
        "# set the batch size\n",
        "learn.data.batch_size = 128"
      ],
      "execution_count": 0,
      "outputs": []
    },
    {
      "cell_type": "code",
      "metadata": {
        "id": "GYq7d-nYiTc0",
        "colab_type": "code",
        "colab": {}
      },
      "source": [
        "# Get the predictions \n",
        "preds, y = learn.get_preds(ds_type=DatasetType.Test)"
      ],
      "execution_count": 0,
      "outputs": []
    },
    {
      "cell_type": "code",
      "metadata": {
        "id": "LSNDoVbI0fMX",
        "colab_type": "code",
        "colab": {}
      },
      "source": [
        "# Create a dictionary with the \"<category/label> <confidence score>\" as value \n",
        "# and image id (= image filename without file extension) as key \n",
        "pred_to_filename = {}\n",
        "i = 0\n",
        "for pred in preds:\n",
        "  filename = os.path.basename(os.path.splitext(test_images.items[i])[0])\n",
        "  # get the predicted category via the preds tensor\n",
        "  category = learn.data.classes[preds[i].argmax().item()]\n",
        "  # and its probabilty \n",
        "  probability = preds[i][preds[i].argmax().item()].item()\n",
        "  # add an element to the dictionary with \"<category> <probability>\" with \n",
        "  # filename as key\n",
        "  pred_to_filename[filename] = str(category)+\" \"+str(probability)\n",
        "  i += 1"
      ],
      "execution_count": 0,
      "outputs": []
    },
    {
      "cell_type": "code",
      "metadata": {
        "id": "Bml0hYJgfokU",
        "colab_type": "code",
        "colab": {}
      },
      "source": [
        "# now load the data from the dictonary into the dataframe (as column \"landmarks\")\n",
        "test_df[\"landmarks\"] = test_df[\"id\"].map(pred_to_filename)\n",
        "test_df"
      ],
      "execution_count": 0,
      "outputs": []
    },
    {
      "cell_type": "code",
      "metadata": {
        "id": "4u6ZfSw64DL_",
        "colab_type": "code",
        "colab": {}
      },
      "source": [
        "# assign it to the submission_df dataframe but without the url column\n",
        "submission_df = test_df.drop(['url'], axis=1).set_index(\"id\")\n",
        "submission_df"
      ],
      "execution_count": 0,
      "outputs": []
    },
    {
      "cell_type": "code",
      "metadata": {
        "id": "RloGKoepCV5S",
        "colab_type": "code",
        "colab": {}
      },
      "source": [
        "submission_fname = \"/your-submssion.csv\""
      ],
      "execution_count": 0,
      "outputs": []
    },
    {
      "cell_type": "code",
      "metadata": {
        "id": "GDWSQbaeSUgq",
        "colab_type": "code",
        "colab": {}
      },
      "source": [
        "# save the submissiops df as csv to google drive\n",
        "submission_df.to_csv(path+submission_fname, sep=\",\", encoding=\"utf-8\")"
      ],
      "execution_count": 0,
      "outputs": []
    },
    {
      "cell_type": "code",
      "metadata": {
        "id": "EcgbfSEebAZE",
        "colab_type": "code",
        "colab": {}
      },
      "source": [
        "# save it in the local colab folder\n",
        "submission_df.to_csv(\"/content\"+submission_fname, sep=\",\", encoding=\"utf-8\")"
      ],
      "execution_count": 0,
      "outputs": []
    },
    {
      "cell_type": "code",
      "metadata": {
        "id": "X9t3N77KyQfj",
        "colab_type": "code",
        "colab": {}
      },
      "source": [
        "# download the file to your machine \n",
        "from google.colab import files\n",
        "files.download(\"/content\"+submission_fname)"
      ],
      "execution_count": 0,
      "outputs": []
    },
    {
      "cell_type": "code",
      "metadata": {
        "id": "4XSVZ7TeT19g",
        "colab_type": "code",
        "colab": {}
      },
      "source": [
        ""
      ],
      "execution_count": 0,
      "outputs": []
    }
  ]
}